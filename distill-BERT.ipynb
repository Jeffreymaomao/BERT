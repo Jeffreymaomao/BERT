{
 "cells": [
  {
   "cell_type": "code",
   "execution_count": 85,
   "id": "2b77c3ac-060c-4c04-ae8e-aa2baa6669c2",
   "metadata": {},
   "outputs": [],
   "source": [
    "import json\n",
    "import torch\n",
    "import torch.optim as optim\n",
    "import matplotlib.pyplot as plt\n",
    "\n",
    "from tqdm import tqdm\n",
    "from IPython.display import clear_output\n",
    "from torch.nn.utils.rnn import pad_sequence\n",
    "from torch.utils.data import Dataset, DataLoader\n",
    "from transformers import AutoTokenizer, BertForQuestionAnswering, DistilBertForQuestionAnswering"
   ]
  },
  {
   "cell_type": "code",
   "execution_count": 2,
   "id": "8a1235f1-4482-4310-8994-b676d4de7cc3",
   "metadata": {},
   "outputs": [],
   "source": [
    "def load_json_data(path):\n",
    "    with open(path) as f:\n",
    "        json_data = json.load(f)\n",
    "    return json_data[\"data\"]\n",
    "\n",
    "def find_target_sublist(my_list, target_sublist):\n",
    "    target_length = len(target_sublist)\n",
    "    for i in range(len(my_list)):\n",
    "        if my_list[i : i + target_length] == target_sublist:\n",
    "            return i, i + target_length\n",
    "    return -1, -1"
   ]
  },
  {
   "cell_type": "code",
   "execution_count": 3,
   "id": "357acc89-f9a3-440e-9ecd-bc0e6af5752f",
   "metadata": {},
   "outputs": [],
   "source": [
    "json_datas = load_json_data(\"./dat/train-v2.0.json\")\n",
    "tokenizer = AutoTokenizer.from_pretrained(\"deepset/bert-base-cased-squad2\")"
   ]
  },
  {
   "cell_type": "code",
   "execution_count": 71,
   "id": "0d8d9d58-9af1-4cd4-92e9-fb59c2a1f485",
   "metadata": {},
   "outputs": [
    {
     "data": {
      "text/plain": [
       "[1, 2, 3]"
      ]
     },
     "execution_count": 71,
     "metadata": {},
     "output_type": "execute_result"
    }
   ],
   "source": [
    "list(set([1,1,1,1,2,2,2,3]))"
   ]
  },
  {
   "cell_type": "code",
   "execution_count": 4,
   "id": "df1c9540-be65-4a27-a73f-aaa726cffe0d",
   "metadata": {},
   "outputs": [],
   "source": [
    "input_data = {'input_ids': [],'token_type_ids': [],'attention_mask': [],'start_positions': [],'end_positions': []}\n",
    "\n",
    "impossible_num = 0\n",
    "total_num = 0\n",
    "max_len = 512\n",
    "error_string = []\n",
    "# for json_data in tqdm(json_datas[:1], desc=\"Processing articles\"):\n",
    "for json_data in json_datas[:1]:\n",
    "    for paragraphs in json_data['paragraphs']:\n",
    "        context = paragraphs[\"context\"]\n",
    "        qas = paragraphs['qas']\n",
    "        for qa in qas:\n",
    "            total_num += 1\n",
    "            try:\n",
    "                if not qa['is_impossible']: # 不使用不可能的QA解答\n",
    "                    # 取得問題\n",
    "                    question = qa['question']\n",
    "                    \n",
    "                    # 取得答案\n",
    "                    answers = qa['answers'][0]['text']\n",
    "                    answers_ids = tokenizer(answers).input_ids[1:-1]\n",
    "                    \n",
    "                    # 轉換成數字\n",
    "                    inputs = tokenizer(context, question, return_tensors=\"pt\", max_length=max_len, truncation=True)\n",
    "                    inputs_ids = list(inputs.input_ids[0])\n",
    "\n",
    "                    start_positions, end_positions = find_target_sublist(inputs_ids, answers_ids)\n",
    "                    if start_positions == -1 or end_positions == -1: continue\n",
    "                    start_positions, end_positions = torch.tensor([start_positions]), torch.tensor([end_positions])\n",
    "\n",
    "                    \n",
    "                    input_data['start_positions'].append(start_positions)\n",
    "                    input_data['end_positions'].append(end_positions)\n",
    "                    input_data['input_ids'].append(inputs.input_ids[0])\n",
    "                    input_data['attention_mask'].append(inputs.attention_mask[0])\n",
    "                    input_data['token_type_ids'].append(inputs.token_type_ids[0])\n",
    "                    \n",
    "            except Exception as e:\n",
    "                error_string.append(f\"{e}\")\n",
    "                if not qa[\"is_impossible\"]: \n",
    "                    impossible_num += 1\n",
    "\n",
    "error = list(set([f\"{e}\" for e in error_string]))\n",
    "if(len(error)): print(error)\n",
    "input_data = {k: pad_sequence(v, padding_value=0, batch_first=True) if v else torch.tensor([]) for k, v in input_data.items()}\n",
    "input_data = {k: v[:, :max_len] for k, v in input_data.items() if v.size(0) > 0}"
   ]
  },
  {
   "cell_type": "code",
   "execution_count": 10,
   "id": "1fb51ef1-981d-4e13-9c5e-bf98894721b5",
   "metadata": {},
   "outputs": [],
   "source": [
    "class QADataset(Dataset):\n",
    "    def __init__(self, input_data):\n",
    "        self.input_data = input_data\n",
    "\n",
    "    def __len__(self):\n",
    "        return len(self.input_data[\"input_ids\"])\n",
    "\n",
    "    def __getitem__(self, idx):\n",
    "        return {\n",
    "            \"input_ids\": self.input_data[\"input_ids\"][idx],\n",
    "            # \"token_type_ids\": self.input_data[\"token_type_ids\"][idx], # distill bert 不用 token_type_idx\n",
    "            \"attention_mask\": self.input_data[\"attention_mask\"][idx],\n",
    "            \"start_positions\": self.input_data[\"start_positions\"][idx],\n",
    "            \"end_positions\": self.input_data[\"end_positions\"][idx],\n",
    "        }"
   ]
  },
  {
   "cell_type": "code",
   "execution_count": 48,
   "id": "ac8272a9-af58-415f-ba97-70d0caf3239a",
   "metadata": {},
   "outputs": [
    {
     "name": "stdout",
     "output_type": "stream",
     "text": [
      "Using device: mps\n"
     ]
    },
    {
     "name": "stderr",
     "output_type": "stream",
     "text": [
      "Some weights of DistilBertForQuestionAnswering were not initialized from the model checkpoint at distilbert-base-cased and are newly initialized: ['qa_outputs.bias', 'qa_outputs.weight']\n",
      "You should probably TRAIN this model on a down-stream task to be able to use it for predictions and inference.\n"
     ]
    }
   ],
   "source": [
    "_device = \"cpu\" # no gpu\n",
    "if torch.cuda.is_available(): _device = \"cuda\" # cuda gpu \n",
    "elif torch.backends.mps.is_available() and torch.backends.mps.is_built(): _device = \"mps\" # M1, M2 gpu\n",
    "device = torch.device(_device)\n",
    "print(f\"Using device: {_device}\")\n",
    "\n",
    "dataset = QADataset(input_data)\n",
    "\n",
    "train_simple = int(len(input_data[\"input_ids\"]) * 0.8)\n",
    "valid_simple = len(input_data[\"input_ids\"]) - train_simple\n",
    "trainset, validset = torch.utils.data.random_split(dataset, [train_simple, valid_simple])\n",
    "\n",
    "train_loader = DataLoader(trainset, batch_size=32, shuffle=True, num_workers=0, pin_memory=True)\n",
    "valid_loader = DataLoader(validset, batch_size=32, shuffle=True, num_workers=0, pin_memory=True)\n",
    "\n",
    "model = DistilBertForQuestionAnswering.from_pretrained(\"distilbert-base-cased\")\n",
    "model.to(device)\n",
    "optimizer = optim.Adam(model.parameters(), lr=3e-5)"
   ]
  },
  {
   "cell_type": "code",
   "execution_count": 92,
   "id": "187b63a2-079f-45b0-82f0-43ff8234dbec",
   "metadata": {},
   "outputs": [],
   "source": [
    "def run_epoch(epoch, model, data_loader, optimizer, device, is_train=True):\n",
    "    epoch_loss = 0\n",
    "    data_pbar = tqdm(data_loader, position=0, leave=True)\n",
    "\n",
    "    if is_train: model.train() # train \n",
    "    else: model.eval() # valid\n",
    "\n",
    "    for batch in data_pbar:\n",
    "        # 使用 pad_sequence 進行填充\n",
    "        input_ids = pad_sequence(batch[\"input_ids\"], batch_first=True).to(device)\n",
    "        attention_mask = pad_sequence(batch[\"attention_mask\"], batch_first=True).to(device)\n",
    "        start_positions = torch.tensor([pos.item() for pos in batch[\"start_positions\"]]).to(device)\n",
    "        end_positions = torch.tensor([pos.item() for pos in batch[\"end_positions\"]]).to(device)\n",
    "\n",
    "        if is_train: optimizer.zero_grad() # train \n",
    "\n",
    "        with torch.set_grad_enabled(is_train):\n",
    "            outputs = model(\n",
    "                input_ids=input_ids,\n",
    "                attention_mask=attention_mask,\n",
    "                start_positions=start_positions,\n",
    "                end_positions=end_positions\n",
    "            )\n",
    "\n",
    "            loss = outputs.loss\n",
    "            \n",
    "            if is_train:\n",
    "                loss.backward()  # train \n",
    "                optimizer.step() # train \n",
    "\n",
    "        mode = \"train\" if is_train else \"valid\"\n",
    "        data_pbar.set_description(f\"{mode.capitalize()} Epoch {epoch}\")\n",
    "        data_pbar.set_postfix({\"loss\": f\"{loss:.3f}\"})\n",
    "        epoch_loss += loss.item()\n",
    "    return epoch_loss / len(data_loader)\n",
    "\n",
    "def show_training_loss(train_loss, valid_loss, clear=False):\n",
    "    if clear: clear_output(wait=True)\n",
    "    plt.plot(train_loss, \"-o\")\n",
    "    plt.plot(valid_loss, \"-o\")\n",
    "    plt.title(\"Result\")\n",
    "    plt.ylabel(\"Loss\")\n",
    "    plt.xlabel(\"Epoch\")\n",
    "    plt.legend([\"train\", \"valid\"], loc=\"upper left\")\n",
    "    plt.show()\n",
    "\n",
    "def save_model(model_path=\".\"):\n",
    "    model.save_pretrained(model_path)\n",
    "    tokenizer.save_pretrained(model_path)\n",
    "    torch.save(model.state_dict(), f\"{model_path}/model.ckpt\")"
   ]
  },
  {
   "cell_type": "code",
   "execution_count": 97,
   "id": "4128f23b-9109-47ad-81d7-6006bc84817e",
   "metadata": {},
   "outputs": [
    {
     "ename": "IndexError",
     "evalue": "list index out of range",
     "output_type": "error",
     "traceback": [
      "\u001b[0;31m---------------------------------------------------------------------------\u001b[0m",
      "\u001b[0;31mIndexError\u001b[0m                                Traceback (most recent call last)",
      "Cell \u001b[0;32mIn[97], line 2\u001b[0m\n\u001b[1;32m      1\u001b[0m arr \u001b[38;5;241m=\u001b[39m [\u001b[38;5;241m0\u001b[39m]\n\u001b[0;32m----> 2\u001b[0m \u001b[43marr\u001b[49m\u001b[43m[\u001b[49m\u001b[38;5;241;43m-\u001b[39;49m\u001b[38;5;241;43m2\u001b[39;49m\u001b[43m]\u001b[49m\n",
      "\u001b[0;31mIndexError\u001b[0m: list index out of range"
     ]
    }
   ],
   "source": [
    "[5.0, 4.0]"
   ]
  },
  {
   "cell_type": "code",
   "execution_count": 50,
   "id": "6afcbe7f-8c99-43a5-9e68-13a9e1bbd8da",
   "metadata": {},
   "outputs": [
    {
     "name": "stderr",
     "output_type": "stream",
     "text": [
      "Train Epoch 0: 100%|████████████████| 19/19 [09:26<00:00, 29.82s/it, loss=4.258]\n",
      "Valid Epoch 0: 100%|████████████████| 19/19 [00:12<00:00,  1.52it/s, loss=4.170]\n"
     ]
    },
    {
     "name": "stdout",
     "output_type": "stream",
     "text": [
      "Epoch 1/3\n",
      "Train Loss: 5.049\n",
      "Valid Loss: 4.022\n"
     ]
    },
    {
     "name": "stderr",
     "output_type": "stream",
     "text": [
      "Train Epoch 1: 100%|████████████████| 19/19 [06:16<00:00, 19.80s/it, loss=3.308]\n",
      "Valid Epoch 1: 100%|████████████████| 19/19 [00:10<00:00,  1.80it/s, loss=3.251]\n"
     ]
    },
    {
     "name": "stdout",
     "output_type": "stream",
     "text": [
      "Epoch 2/3\n",
      "Train Loss: 3.748\n",
      "Valid Loss: 3.340\n"
     ]
    },
    {
     "name": "stderr",
     "output_type": "stream",
     "text": [
      "Train Epoch 2: 100%|████████████████| 19/19 [05:36<00:00, 17.74s/it, loss=3.119]\n",
      "Valid Epoch 2: 100%|████████████████| 19/19 [00:11<00:00,  1.73it/s, loss=2.563]"
     ]
    },
    {
     "name": "stdout",
     "output_type": "stream",
     "text": [
      "Epoch 3/3\n",
      "Train Loss: 3.204\n",
      "Valid Loss: 2.885\n"
     ]
    },
    {
     "name": "stderr",
     "output_type": "stream",
     "text": [
      "\n"
     ]
    }
   ],
   "source": [
    "train_loss_array = []\n",
    "valid_loss_array = []\n",
    "\n",
    "model_path = \"./model-0528\"\n",
    "best_valid_loss = float('inf')\n",
    "num_epochs = 1000\n",
    "threshold = 0.01  # 設定損失變化的閾值\n",
    "stable_epochs = 0  # 用來計算損失變化平穩的epoch數\n",
    "patience = 3  # 設定平穩後持續的epoch數\n",
    "\n",
    "try:\n",
    "    for epoch in range(num_epochs):\n",
    "        train_loss = run_epoch(epoch, model, train_loader, optimizer, device, is_train=True)\n",
    "        valid_loss = run_epoch(epoch, model, train_loader, optimizer, device, is_train=False)\n",
    "        \n",
    "        train_loss_array.append(train_loss)\n",
    "        valid_loss_array.append(valid_loss)\n",
    "        print(f\"Epoch {epoch+1}/{num_epochs}\")\n",
    "        print(f\"Train Loss: {train_loss:.3f}\")\n",
    "        print(f\"Valid Loss: {valid_loss:.3f}\")\n",
    "        \n",
    "        show_training_loss(train_loss_array, valid_loss_array, clear=True)\n",
    "        \n",
    "        if valid_loss < best_valid_loss:\n",
    "            best_valid_loss = valid_loss\n",
    "            save_model(model_path)\n",
    "        \n",
    "        if epoch > 0 and abs(valid_loss - valid_loss_array[-2]) < threshold:\n",
    "            stable_epochs += 1\n",
    "        else:\n",
    "            stable_epochs = 0\n",
    "\n",
    "        # 如果損失變化平穩，則停止訓練\n",
    "        if stable_epochs >= patience:\n",
    "            print(\"Training stopped as loss has stabilized\")\n",
    "            break\n",
    "            \n",
    "except Exception as e:\n",
    "    print(e)\n",
    "    save_model(model_path)\n",
    "    show_training_loss(train_loss_array, valid_loss_array)\n",
    "\n",
    "show_training_loss(train_loss_array, valid_loss_array)"
   ]
  },
  {
   "cell_type": "code",
   "execution_count": 51,
   "id": "fc322001-ebc3-4196-ab94-1a8937995923",
   "metadata": {},
   "outputs": [
    {
     "data": {
      "image/png": "[encoded data removed]",
      "text/plain": [
       "<Figure size 640x480 with 1 Axes>"
      ]
     },
     "metadata": {},
     "output_type": "display_data"
    }
   ],
   "source": [
    "show_training_loss(train_loss_array, valid_loss_array)"
   ]
  },
  {
   "cell_type": "code",
   "execution_count": 84,
   "id": "3b689dea-f8e3-45ee-a958-415c2a0678db",
   "metadata": {},
   "outputs": [
    {
     "data": {
      "text/plain": [
       "([5.0489654541015625, 3.7482953824495016, 3.203548745105141],\n",
       " [4.021729594782779, 3.3400268805654427, 2.885056683891698])"
      ]
     },
     "execution_count": 84,
     "metadata": {},
     "output_type": "execute_result"
    }
   ],
   "source": [
    "train_loss_array, valid_loss_array"
   ]
  }
 ],
 "metadata": {
  "kernelspec": {
   "display_name": "Python 3 (ipykernel)",
   "language": "python",
   "name": "python3"
  },
  "language_info": {
   "codemirror_mode": {
    "name": "ipython",
    "version": 3
   },
   "file_extension": ".py",
   "mimetype": "text/x-python",
   "name": "python",
   "nbconvert_exporter": "python",
   "pygments_lexer": "ipython3",
   "version": "3.9.6"
  }
 },
 "nbformat": 4,
 "nbformat_minor": 5
}
